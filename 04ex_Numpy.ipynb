{
 "cells": [
  {
   "cell_type": "markdown",
   "metadata": {},
   "source": [
    "### Numpy basics"
   ]
  },
  {
   "cell_type": "markdown",
   "metadata": {},
   "source": [
    "1\\. Find the row, column and overall means for the following matrix:\n",
    "\n",
    "```python\n",
    "m = np.arange(12).reshape((3,4))\n",
    "```"
   ]
  },
  {
   "cell_type": "markdown",
   "metadata": {},
   "source": [
    "2\\. Find the outer product of the following two vecotrs\n",
    "\n",
    "```python\n",
    "u = np.array([1,3,5,7])\n",
    "v = np.array([2,4,6,8])\n",
    "```\n",
    "\n",
    "Do this in the following ways:\n",
    "\n",
    "   * Using the function outer in numpy\n",
    "   * Using a nested for loop or list comprehension\n",
    "   * Using numpy broadcasting operatoins\n"
   ]
  },
  {
   "cell_type": "markdown",
   "metadata": {},
   "source": [
    "3\\. Create a 10 by 6 matrix of random uniform numbers. Set all rows with any entry less than 0.1 to be zero\n",
    "\n",
    "Hint: Use the following numpy functions - np.random.random, np.any as well as Boolean indexing and the axis argument."
   ]
  },
  {
   "cell_type": "markdown",
   "metadata": {},
   "source": [
    "4\\. Use np.linspace to create an array of 100 numbers between 0 and 2π (includsive).\n",
    "\n",
    "  * Extract every 10th element using slice notation\n",
    "  * Reverse the array using slice notation\n",
    "  * Extract elements where the absolute difference between the sine and cosine functions evaluated at that element is less than 0.1\n",
    "  * Make a plot showing the sin and cos functions and indicate where they are close"
   ]
  },
  {
   "cell_type": "markdown",
   "metadata": {},
   "source": [
    "5\\. Create a matrix that shows the 10 by 10 multiplication table.\n",
    "\n",
    " * Find the trace of the matrix\n",
    " * Extract the anto-diagonal (this should be ```array([10, 18, 24, 28, 30, 30, 28, 24, 18, 10])```)\n",
    " * Extract the diagnoal offset by 1 upwards (this should be ```array([ 2,  6, 12, 20, 30, 42, 56, 72, 90])```)"
   ]
  },
  {
   "cell_type": "markdown",
   "metadata": {},
   "source": [
    "6\\. Use broadcasting to create a grid of distances\n",
    "\n",
    "Route 66 crosses the following cities in the US: Chicago, Springfield, Saint-Louis, Tulsa, Oklahoma City, Amarillo, Santa Fe, Albuquerque, Flagstaff, Los Angeles\n",
    "The corresponding positions in miles are: 0, 198, 303, 736, 871, 1175, 1475, 1544, 1913, 2448\n",
    "\n",
    "  * Construct a 2D grid of distances among each city along Route 66\n",
    "  * Convert that in km (those savages...)"
   ]
  },
  {
   "cell_type": "code",
   "execution_count": 10,
   "metadata": {},
   "outputs": [
    {
     "name": "stdout",
     "output_type": "stream",
     "text": [
      "[[   0  198  303  736  871 1175 1475 1544 1913 2448]\n",
      " [ 198    0  105  538  673  977 1277 1346 1715 2250]\n",
      " [ 303  105    0  433  568  872 1172 1241 1610 2145]\n",
      " [ 736  538  433    0  135  439  739  808 1177 1712]\n",
      " [ 871  673  568  135    0  304  604  673 1042 1577]\n",
      " [1175  977  872  439  304    0  300  369  738 1273]\n",
      " [1475 1277 1172  739  604  300    0   69  438  973]\n",
      " [1544 1346 1241  808  673  369   69    0  369  904]\n",
      " [1913 1715 1610 1177 1042  738  438  369    0  535]\n",
      " [2448 2250 2145 1712 1577 1273  973  904  535    0]]\n",
      "[[   0.       318.64932  487.63002 1184.47424 1401.73514 1890.9745\n",
      "  2373.7765  2484.82096 3078.66742 3939.66432]\n",
      " [ 318.64932    0.       168.9807   865.82492 1083.08582 1572.32518\n",
      "  2055.12718 2166.17164 2760.0181  3621.015  ]\n",
      " [ 487.63002  168.9807     0.       696.84422  914.10512 1403.34448\n",
      "  1886.14648 1997.19094 2591.0374  3452.0343 ]\n",
      " [1184.47424  865.82492  696.84422    0.       217.2609   706.50026\n",
      "  1189.30226 1300.34672 1894.19318 2755.19008]\n",
      " [1401.73514 1083.08582  914.10512  217.2609     0.       489.23936\n",
      "   972.04136 1083.08582 1676.93228 2537.92918]\n",
      " [1890.9745  1572.32518 1403.34448  706.50026  489.23936    0.\n",
      "   482.802    593.84646 1187.69292 2048.68982]\n",
      " [2373.7765  2055.12718 1886.14648 1189.30226  972.04136  482.802\n",
      "     0.       111.04446  704.89092 1565.88782]\n",
      " [2484.82096 2166.17164 1997.19094 1300.34672 1083.08582  593.84646\n",
      "   111.04446    0.       593.84646 1454.84336]\n",
      " [3078.66742 2760.0181  2591.0374  1894.19318 1676.93228 1187.69292\n",
      "   704.89092  593.84646    0.       860.9969 ]\n",
      " [3939.66432 3621.015   3452.0343  2755.19008 2537.92918 2048.68982\n",
      "  1565.88782 1454.84336  860.9969     0.     ]]\n"
     ]
    }
   ],
   "source": [
    "import numpy as np\n",
    "distances = np.array([0, 198, 303, 736, 871, 1175, 1475, 1544, 1913, 2448])\n",
    "\n",
    "grid = np.array([abs(i-j) for i in distances for j in distances]).reshape(len(distances), len(distances))\n",
    "print(grid)\n",
    "\n",
    "km_grid = grid * 1.60934\n",
    "print(km_grid)"
   ]
  },
  {
   "cell_type": "markdown",
   "metadata": {},
   "source": [
    "7\\. Prime numbers sieve: compute the prime numbers in the 0-N (N=99 to start with) range with a sieve (mask).\n",
    "  * Constract a shape (100,) boolean array, the mask\n",
    "  * Identify the multiples of each number starting from 2 and set accordingly the corresponding mask element\n",
    "  * Apply the mask to obtain an array of ordered prime numbers\n",
    "  * Check the performances (timeit); how does it scale with N?\n",
    "  * Implement the optimization suggested in the [sieve of Eratosthenes](https://en.wikipedia.org/wiki/Sieve_of_Eratosthenes)"
   ]
  },
  {
   "cell_type": "code",
   "execution_count": 23,
   "metadata": {},
   "outputs": [
    {
     "name": "stdout",
     "output_type": "stream",
     "text": [
      "[ 0  1  2  3  5  7 11 13 17 19 23 29 31 37 41 43 47 53 59 61 67 71 73 79\n",
      " 83 89 97]\n",
      "0.0008251667022705078\n"
     ]
    }
   ],
   "source": [
    "N=99\n",
    "shape_array = np.array([i for i in range(N+1)]).T\n",
    "mask = np.ones((N+1,), dtype=bool)\n",
    "\n",
    "import time\n",
    "start = time.time()\n",
    "for i in range(2,N+1):\n",
    "    for j in range(i,N+1):\n",
    "        if i*j < N+1:\n",
    "            mask[i*j] = False\n",
    "\n",
    "print(shape_array[mask])\n",
    "end = time.time() - start\n",
    "print(end)"
   ]
  },
  {
   "cell_type": "code",
   "execution_count": 24,
   "metadata": {},
   "outputs": [
    {
     "ename": "TypeError",
     "evalue": "only integer scalar arrays can be converted to a scalar index",
     "output_type": "error",
     "traceback": [
      "\u001b[0;31m---------------------------------------------------------------------------\u001b[0m",
      "\u001b[0;31mTypeError\u001b[0m                                 Traceback (most recent call last)",
      "\u001b[0;32m<ipython-input-24-46f65da72b88>\u001b[0m in \u001b[0;36m<module>\u001b[0;34m\u001b[0m\n\u001b[1;32m     18\u001b[0m \u001b[0;32mimport\u001b[0m \u001b[0mmatplotlib\u001b[0m\u001b[0;34m.\u001b[0m\u001b[0mpyplot\u001b[0m \u001b[0;32mas\u001b[0m \u001b[0mplt\u001b[0m\u001b[0;34m\u001b[0m\u001b[0;34m\u001b[0m\u001b[0m\n\u001b[1;32m     19\u001b[0m \u001b[0;34m\u001b[0m\u001b[0m\n\u001b[0;32m---> 20\u001b[0;31m \u001b[0mplt\u001b[0m\u001b[0;34m.\u001b[0m\u001b[0mplot\u001b[0m\u001b[0;34m(\u001b[0m\u001b[0mprime_finder\u001b[0m\u001b[0;34m(\u001b[0m\u001b[0mN_array\u001b[0m\u001b[0;34m)\u001b[0m\u001b[0;34m)\u001b[0m\u001b[0;34m\u001b[0m\u001b[0;34m\u001b[0m\u001b[0m\n\u001b[0m",
      "\u001b[0;32m<ipython-input-24-46f65da72b88>\u001b[0m in \u001b[0;36mprime_finder\u001b[0;34m(N)\u001b[0m\n\u001b[1;32m      1\u001b[0m \u001b[0;32mdef\u001b[0m \u001b[0mprime_finder\u001b[0m\u001b[0;34m(\u001b[0m\u001b[0mN\u001b[0m\u001b[0;34m:\u001b[0m\u001b[0mint\u001b[0m\u001b[0;34m)\u001b[0m\u001b[0;34m:\u001b[0m\u001b[0;34m\u001b[0m\u001b[0;34m\u001b[0m\u001b[0m\n\u001b[0;32m----> 2\u001b[0;31m     \u001b[0mshape_array\u001b[0m \u001b[0;34m=\u001b[0m \u001b[0mnp\u001b[0m\u001b[0;34m.\u001b[0m\u001b[0marray\u001b[0m\u001b[0;34m(\u001b[0m\u001b[0;34m[\u001b[0m\u001b[0mi\u001b[0m \u001b[0;32mfor\u001b[0m \u001b[0mi\u001b[0m \u001b[0;32min\u001b[0m \u001b[0mrange\u001b[0m\u001b[0;34m(\u001b[0m\u001b[0mN\u001b[0m\u001b[0;34m+\u001b[0m\u001b[0;36m1\u001b[0m\u001b[0;34m)\u001b[0m\u001b[0;34m]\u001b[0m\u001b[0;34m)\u001b[0m\u001b[0;34m.\u001b[0m\u001b[0mT\u001b[0m\u001b[0;34m\u001b[0m\u001b[0;34m\u001b[0m\u001b[0m\n\u001b[0m\u001b[1;32m      3\u001b[0m     \u001b[0mmask\u001b[0m \u001b[0;34m=\u001b[0m \u001b[0mnp\u001b[0m\u001b[0;34m.\u001b[0m\u001b[0mones\u001b[0m\u001b[0;34m(\u001b[0m\u001b[0;34m(\u001b[0m\u001b[0mN\u001b[0m\u001b[0;34m+\u001b[0m\u001b[0;36m1\u001b[0m\u001b[0;34m,\u001b[0m\u001b[0;34m)\u001b[0m\u001b[0;34m,\u001b[0m \u001b[0mdtype\u001b[0m\u001b[0;34m=\u001b[0m\u001b[0mbool\u001b[0m\u001b[0;34m)\u001b[0m\u001b[0;34m\u001b[0m\u001b[0;34m\u001b[0m\u001b[0m\n\u001b[1;32m      4\u001b[0m     \u001b[0mstart\u001b[0m \u001b[0;34m=\u001b[0m \u001b[0mtime\u001b[0m\u001b[0;34m.\u001b[0m\u001b[0mtime\u001b[0m\u001b[0;34m(\u001b[0m\u001b[0;34m)\u001b[0m\u001b[0;34m\u001b[0m\u001b[0;34m\u001b[0m\u001b[0m\n\u001b[1;32m      5\u001b[0m \u001b[0;34m\u001b[0m\u001b[0m\n",
      "\u001b[0;31mTypeError\u001b[0m: only integer scalar arrays can be converted to a scalar index"
     ]
    }
   ],
   "source": [
    "def prime_finder(N:int):\n",
    "    shape_array = np.array([i for i in range(N+1)]).T\n",
    "    mask = np.ones((N+1,), dtype=bool)\n",
    "    start = time.time()\n",
    "    \n",
    "    for i in range(2,N+1):\n",
    "        for j in range(i,N+1):\n",
    "            if i*j < N+1:\n",
    "                mask[i*j] = False\n",
    "\n",
    "    print(shape_array[mask])\n",
    "    end = time.time() - start\n",
    "    \n",
    "    return end\n",
    "\n",
    "N_array = np.arange(1e2, 1e5, 1e2, dtype=int)\n",
    "\n",
    "import matplotlib.pyplot as plt\n",
    "\n",
    "plt.plot(prime_finder(N_array))"
   ]
  },
  {
   "cell_type": "markdown",
   "metadata": {},
   "source": [
    "**N.B. the following exercises are meant to be solved only if you are familiar with the numpy random library. If not you can skip them (postponed for one of the next exercise sessions)**\n"
   ]
  },
  {
   "cell_type": "markdown",
   "metadata": {},
   "source": [
    "8\\. Diffusion using random walk\n",
    "\n",
    "Consider a simple random walk process: at each step in time, a walker jumps right or left (+1 or -1) with equal probability. The goal is to find the typical distance from the origin of a random walker after a given amount of time. \n",
    "To do that, let's simulate many walkers and create a 2D array with each walker as a raw and the actual time evolution as columns\n",
    "\n",
    "  * Take 1000 walkers and let them walk for 200 steps\n",
    "  * Use randint to create a 2D array of size walkers x steps with values -1 or 1\n",
    "  * Build the actual walking distances for each walker (i.e. another 2D array \"summing on each raw\")\n",
    "  * Take the square of that 2D array (elementwise)\n",
    "  * Compute the mean of the squared distances at each step (i.e. the mean along the columns)\n",
    "  * Plot the average distances (sqrt(distance\\*\\*2)) as a function of time (step)\n",
    "  \n",
    "Did you get what you expected?"
   ]
  },
  {
   "cell_type": "code",
   "execution_count": 18,
   "metadata": {},
   "outputs": [
    {
     "name": "stdout",
     "output_type": "stream",
     "text": [
      "[[ 1  1 -1 ...  1 -1  1]\n",
      " [-1 -1  1 ...  1  1 -1]\n",
      " [-1  1  1 ... -1 -1 -1]\n",
      " ...\n",
      " [-1  1  1 ... -1  1  1]\n",
      " [ 1  1 -1 ... -1  1  1]\n",
      " [-1  1 -1 ...  1  1 -1]]\n",
      "[ 144  100  676   36   64  400    0  324   16  784  900   36  784  784\n",
      "   16  100  576   36  196  324   64   16  400   64   64  100  144  324\n",
      "    0   36  676    4   16  144  784  256  324 1024   64  196  256  324\n",
      "  324 1156  100    0   64  676 1156   36  144    4  400  100  144   16\n",
      "  100  144   16  100  100   16   64    4  100    4    0    0  900   64\n",
      "    4 1024  144   64  256   16   36  144   16   16  784   16    0    0\n",
      "   16    4  324  144  100    4  100  484    4  256   16  324   16  324\n",
      "  324   36  400 1600  144   64 1296  196  484   36    4  144  144   36\n",
      "  100  144   16   64  100   64  324  256   16 1296   36   16   16   36\n",
      "    0  400   16   16  676   16  324  100  100   16    0   36  400  400\n",
      "   36   16  484    4  484    4    4  324   16  100  484   36    0   16\n",
      "  144    4  900  256   36  144  324   16   64  100  900  144  576  196\n",
      "  256  100   16  100  144  144    4    4  400  196  100  784  576  100\n",
      "    4  324    4  256   16   36   64  256    4  196    4   16  484    4\n",
      "    4   16   64  400    4   16    4  256  256  400  324   64  400  484\n",
      "  144  484    4   16   16    4  400    4   16   16  400   16  400   16\n",
      "  324  900  144   16   16  144  784  484  900  576  324   36    4  100\n",
      "  144   36  100   16   16    0  196   64  100   36  144   16   16  576\n",
      "   64    4   36   16    0    0  196    0   16  196   64  144   64  100\n",
      "   36  324  196   16   16   16    4   36  144   36   36  100  100  324\n",
      "  196    0   64   64  256   16  484   16  196    4  144  100    4   64\n",
      "  144  196   16  100  144    4  400  100    4   16   36   16   36  256\n",
      "   64    4    0   36    4   36  484  400    0   64  400  144  784  144\n",
      "  484  144  484    4  324   16    0  256  484  484   36   64   36  576\n",
      "  196  400  196  484   36    4   36  100    0  100    4 1296  100  256\n",
      "  196    0  196   16  576  324    0   16  196  196 1156  400   64   64\n",
      "  576  144  100  196  196   64   16  144   36  144   16  256  256    4\n",
      "  576   64  900  144   16  256  196  196    4  144    4  324   36   16\n",
      "   16   64  256  100  100  324  196   64  100  196  576  576  144    0\n",
      "  100  576  196   64   64  576  100  196  144  256  324  196   64  324\n",
      "  484  400   36    4  144    4   64    4 1024    4   16   64   16   36\n",
      "  256   16   36    0   36   36   16    0  256  100   16   16   64   16\n",
      "  900   64   64  784   64  144   16   64  144   16   16    0   64  196\n",
      "  196  484  196   36   36  484  256  100   36  100    4  256   64  196\n",
      "    0  784   16  144  100   64    0   64  196  144   64 1296  144   64\n",
      "  256  100   16  144  256  256  144   64  256    4    4   16  676    4\n",
      "    4  400  324  256  256   16  256    0  256  196  144    0  324   16\n",
      "   64    4  676  256  196  100   64   64   16  144  400  576  400  484\n",
      "  144    4  484  256   64   36  400    4  484   16  324  324   36  256\n",
      "  400    4  676    0   36  100  144  400    4  100  196  900   16  576\n",
      "  256    4    4  784  144   64  256  196  400  144    0  256  144    0\n",
      "   36  144   16   36  196  324  196  144  784  196    4  256   16  196\n",
      "  784  100    4  100   64   36  256   16  196   36  196  324    0  144\n",
      "  256  196   64  196  144  100  144  100  196  400  100  196  196  100\n",
      "   64   16    0  100    4  900  324  400   64  784 1024  144   64  196\n",
      "  100  400  784    4    0   16   64    4  400  576  100    4   64  144\n",
      "    4  100    4   64  256    4  576   64    0   16 1024   36   36   64\n",
      "    0  484  400 1444   36    0  256    0   16  324  324    4 1296  144\n",
      "    4  100   36   64   36  256  144  100  484  900    4    4   64    4\n",
      "    4    0    4    0  144   64   16    4  100  400   16    4   36   64\n",
      "  144  324    0  324  144    0 1024   16   64  144  100    4   36   16\n",
      "  256   36   64   36  144  900  196  196  144   36  484   36   16  256\n",
      "   64   64  324  144   64   36  144  144    4  144    0  144 1296  324\n",
      "  400   64  144   64    4  196   36   36   36  196    4  196  144  144\n",
      "  576  400  324   36   36   16    4   64  196   16  256  100  484  576\n",
      "    4  400   16   36    4    0   64   36  576  100  400   36    4   16\n",
      "  100  900  400  196  256   64    4  256   64  324   64  256  100   36\n",
      "  100    4 1156  144  324   36  100   36  196  784  324    0  484  324\n",
      "   36   64  196    4  100  196   36  196  400    4   64  676  676  324\n",
      "    0  576   64    4  256  196  144  676  324   16    4  144   64 1024\n",
      "  196   64  144  400  256  484   16    0  900    4    0  196  576  676\n",
      "  324  784   64    0   36  100  256 1156   16   64  400  676  324  100\n",
      "   16  100   16    4    4    0   36   64   36    0  100  256  100   16\n",
      "   36  484   64  324  144   64    4    4    4    4   36    4  324  324\n",
      "    4  400 1296   64   16   64  196  256  256    4  324  100   16  900\n",
      "   36   16   64    4   36  196  256  256  324   64    4  100  144   36\n",
      "  576   16   36  144  100   36   36   16  484  196  100   36  576  100\n",
      "  484    4  576  144  144    4    4  484   16  256  100   64  256  196\n",
      "  196  100  196   36  196  144   36    4    4  196  144  196   16   16\n",
      "   16  324  900  324   16   64    0  484  324   16   36  256   36  256\n",
      "   16   36  324  100  144   64  576  256   36  324  324  144  256  324\n",
      "   64   36  324  144   16   36]\n"
     ]
    }
   ],
   "source": [
    "import numpy.random as npr\n",
    "import numpy as np\n",
    "npr.seed(1234567)\n",
    "\n",
    "N_walkers = 1000\n",
    "N_steps = 200\n",
    "rand_walk = npr.randint(2,size=(N_walkers,N_steps))\n",
    "mask = (rand_walk==0)\n",
    "\n",
    "rand_walk[mask] = -1\n",
    "\n",
    "print(rand_walk)\n",
    "\n",
    "walk_distances = np.array([np.sum(rand_walk[i,:]) for i in range(N_walkers)])\n",
    "#print(walk_distances)\n",
    "\n",
    "squared_distances = walk_distances ** 2\n",
    "print(squared_distances)\n",
    "\n",
    "mean_distances = np.array([np.sum(rand_walk[i,:]) for i in range(N_walkers)]).reshape(N_walkers,)"
   ]
  },
  {
   "cell_type": "markdown",
   "metadata": {},
   "source": [
    "9\\. Analyze a data file \n",
    "  * Download the population of hares, lynxes and carrots at the beginning of the last century.\n",
    "    ```python\n",
    "    ! wget https://www.dropbox.com/s/3vigxoqayo389uc/populations.txt\n",
    "    ```\n",
    "\n",
    "  * Check the content by looking within the file\n",
    "  * Load the data (use an appropriate numpy method) into a 2D array\n",
    "  * Create arrays out of the columns, the arrays being (in order): *year*, *hares*, *lynxes*, *carrots* \n",
    "  * Plot the 3 populations over the years\n",
    "  * Compute the main statistical properties of the dataset (mean, std, correlations, etc.)\n",
    "  * Which species has the highest population each year?\n",
    "\n",
    "Do you feel there is some evident correlation here? [Studies](https://www.enr.gov.nt.ca/en/services/lynx/lynx-snowshoe-hare-cycle) tend to believe so."
   ]
  },
  {
   "cell_type": "code",
   "execution_count": null,
   "metadata": {},
   "outputs": [],
   "source": []
  }
 ],
 "metadata": {
  "kernelspec": {
   "display_name": "Python 3",
   "language": "python",
   "name": "python3"
  },
  "language_info": {
   "codemirror_mode": {
    "name": "ipython",
    "version": 3
   },
   "file_extension": ".py",
   "mimetype": "text/x-python",
   "name": "python",
   "nbconvert_exporter": "python",
   "pygments_lexer": "ipython3",
   "version": "3.6.8"
  }
 },
 "nbformat": 4,
 "nbformat_minor": 2
}
