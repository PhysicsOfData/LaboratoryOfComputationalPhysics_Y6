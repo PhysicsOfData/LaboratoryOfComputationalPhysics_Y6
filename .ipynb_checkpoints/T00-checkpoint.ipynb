{
 "cells": [
  {
   "cell_type": "code",
   "execution_count": null,
   "id": "02e3847e",
   "metadata": {},
   "outputs": [],
   "source": [
    "#VARIABILI\n",
    "\n",
    "a = 'Cinque'\n",
    "b = 10\n",
    "c = d = 7\n",
    "print(a, b, c, d)"
   ]
  },
  {
   "cell_type": "code",
   "execution_count": null,
   "id": "e6aa05c1",
   "metadata": {},
   "outputs": [],
   "source": [
    "#OPERATORI\n",
    "\n",
    "print(3*2) #Prodotto\n",
    "print(3**2) #Potenza\n",
    "print(3/2) #Diviso\n",
    "print(3%2) #Mi da il resto della divisione\n",
    "print(3//2) #Mi da la divisione intera senza resto\n",
    "\n",
    "print(type(1)) #Int\n",
    "print(type(1.0)) #Float"
   ]
  },
  {
   "cell_type": "code",
   "execution_count": null,
   "id": "45135ca1",
   "metadata": {},
   "outputs": [],
   "source": [
    "#ITERATORI\n",
    "\n",
    "#FOR\n",
    "for i in range (5):\n",
    "    print(i)\n",
    "# per un valore all'interno di un range mi ritorna ogni valore, itera da i = 0 a i = 4\n",
    "\n",
    "#WHILE\n",
    "x = 0\n",
    "while x < 5:\n",
    "    print(x)\n",
    "    x += 1\n",
    "# pongo un valore iniziale che subisce una operazione ad ogni iterazione fino ad ottenere la condizione\n",
    "# finale. In questo caso, printo prima il valore della x e poi gli faccio subire l'operazione così prende\n",
    "# anche il valore iniziale."
   ]
  },
  {
   "cell_type": "code",
   "execution_count": 32,
   "id": "b5d1de63",
   "metadata": {},
   "outputs": [
    {
     "name": "stdout",
     "output_type": "stream",
     "text": [
      "Is Bes gay?\n",
      "2\n",
      "NO\n",
      "3\n"
     ]
    }
   ],
   "source": [
    "#CONDIZIONE \n",
    "\n",
    "#IF, ELIF, ELSE\n",
    "import random\n",
    "print('Is Bes gay?')\n",
    "a = random.randint(0,6)\n",
    "print(a)\n",
    "if a == 6:\n",
    "    print('IS TRANS')\n",
    "elif a >= 3:\n",
    "    print('YES')\n",
    "else:\n",
    "    print('NO')\n",
    "# posso mettere svariate condizioni così ho tutti i casi possibili. dentro una singola condizione posso\n",
    "# fare una determinata operazione e poi farne un'altra in un'altra condizione.\n",
    "\n",
    "#TRY, EXCEPT\n",
    "b = 1\n",
    "try:\n",
    "    c = b + 2\n",
    "    print(c)\n",
    "except:\n",
    "    print('a is not a number')\n",
    "# prova a fare questo, sennò fai questo. strana iterazione che non credo userò."
   ]
  },
  {
   "cell_type": "code",
   "execution_count": 33,
   "id": "b575c29e",
   "metadata": {},
   "outputs": [
    {
     "name": "stdout",
     "output_type": "stream",
     "text": [
      "The result is : 6.727171322029717\n"
     ]
    }
   ],
   "source": [
    "#FUNZIONI\n",
    "\n",
    "def myfunc(x):\n",
    "    y = (2*x**2)/(x**(1/4))\n",
    "    return y\n",
    "x = 2 #globale\n",
    "result = myfunc(x)\n",
    "print('The result is :', result)\n",
    "\n",
    "#variabili poste fuori dalle funzioni sono variabili globali (che valgono per tutte le funzioni presenti)"
   ]
  },
  {
   "cell_type": "code",
   "execution_count": 59,
   "id": "226c2741",
   "metadata": {},
   "outputs": [
    {
     "name": "stdout",
     "output_type": "stream",
     "text": [
      "[1, 4, [2, 5, 'lmao', 3.0]]\n",
      "lmao\n",
      "[2, 5]\n",
      "[0, 0.1, 1, 2, 3, 4, 5, 6, 7, 8, 10]\n",
      "['è', ' ', 'i', 'n', 'v', 'e', 'r', 'n', 'o', ' ', 'e', ' ', 'f', 'a', ' ', 'f', 'r', 'e', 'd', 'd', 'o']\n",
      "è inverno e fa freddo\n",
      "ma sempre meglio dell estate.\n",
      "abc defg\n",
      "ABC DEFG\n",
      "4\n",
      "ABC afg\n",
      "ABC defg\n",
      "ABC aaag\n",
      "ABC cccg\n",
      "[0, 1, 4]\n",
      "[0, 4, 16]\n"
     ]
    }
   ],
   "source": [
    "#LISTE\n",
    "\n",
    "#liste\n",
    "a = [2, 5, 'lmao', 3.0]\n",
    "b = [1, 4, a,]\n",
    "c = list(range(10))\n",
    "print(b)\n",
    "#posso anche selezionare le posizioni all'interno della lista\n",
    "print(a[2])\n",
    "#oppure printare solo alcuni oggetti all'interno di un intervallo\n",
    "print(a[0:2])\n",
    "# in generale list[inizio:fine:steps]\n",
    "# posso fare anche operazioni con le liste. le più famose sono:\n",
    "c.insert(0, 0.1) #inserisco dove voglio il valore che voglio\n",
    "c.append(10) #aggiungo alla fine\n",
    "c.remove(9) #rimuovo il valore che voglio dalla lista\n",
    "d = c.copy() #copio la lista\n",
    "c.reverse() #inverto l'intera lista\n",
    "c.sort() #metto in ordine crescente\n",
    "print(c)\n",
    "# si possono modificare anche stringe come se fossero in una lista\n",
    "sentence = 'è inverno e fa freddo'\n",
    "lettere = [x for x in sentence]\n",
    "lista = list(lettere)\n",
    "print (lista)\n",
    "# per modificarla uso alcuni comandi gia visti e non\n",
    "nuova_lista = sentence + '\\nma sempre meglio dell estate.' #\\n vado a capo\n",
    "print(nuova_lista)\n",
    "# vediamo alcuni comandi per le operazioni\n",
    "a = \"ABC defg\"\n",
    "print(a.lower()) #lowercase\n",
    "print(a.upper()) #uppercase\n",
    "print(a.find('d')) #cerca una lettera\n",
    "print(a.replace('de', 'a')) #sostituisci\n",
    "print(a) \n",
    "b = a.replace('def', 'aaa')\n",
    "print(b)\n",
    "b = b.replace('a', 'c')\n",
    "print(b)\n",
    "b.count('c') #conta quante volte viene la lettera c\n",
    "# una tipologia di liste particolari dove sono possibili operazioni sono le comprehension\n",
    "e = [x*x for x in range (3)] #il quadrato dei numeri compresi tra 0 e 3 (3 non compreso)\n",
    "print(e)\n",
    "f = [x**2 for x in range (0, 5) if x % 2 == 0] #il quadrato dei numeri tra 0 e 5 e % per 2\n",
    "print(f)"
   ]
  },
  {
   "cell_type": "code",
   "execution_count": 67,
   "id": "2e029942",
   "metadata": {},
   "outputs": [
    {
     "name": "stdout",
     "output_type": "stream",
     "text": [
      "(1, 2, 3)\n",
      "Trivium\n",
      "Metal Trivium\n",
      "Pop Madonna\n",
      "nGeneri 2\n",
      "Keys: dict_keys(['Metal', 'Pop', 'nGeneri'])\n",
      "Values: dict_values(['Trivium', 'Madonna', 2])\n"
     ]
    }
   ],
   "source": [
    "#TUPLE\n",
    "#sono liste che non possono subire modifiche\n",
    "a = (1,2,3)\n",
    "print(a)\n",
    "\n",
    "#DIZIONARI\n",
    "#possono contenere molte informazioni\n",
    "b = {'Metal': 'Trivium', 'Pop': 'Madonna', 'nGeneri': 2}\n",
    "print(b['Metal'])\n",
    "for i in b: print (i, b[i]) #printo sia la descrizione che l'oggetto\n",
    "print(\"Keys:\", b.keys()) #le chiavi sono le descrizioni\n",
    "print(\"Values:\", b.values()) #i valori sono gli oggetti"
   ]
  }
 ],
 "metadata": {
  "kernelspec": {
   "display_name": "Python 3 (ipykernel)",
   "language": "python",
   "name": "python3"
  },
  "language_info": {
   "codemirror_mode": {
    "name": "ipython",
    "version": 3
   },
   "file_extension": ".py",
   "mimetype": "text/x-python",
   "name": "python",
   "nbconvert_exporter": "python",
   "pygments_lexer": "ipython3",
   "version": "3.11.4"
  }
 },
 "nbformat": 4,
 "nbformat_minor": 5
}
