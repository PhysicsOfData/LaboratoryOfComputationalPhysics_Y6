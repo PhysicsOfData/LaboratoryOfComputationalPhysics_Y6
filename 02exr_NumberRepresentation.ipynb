{
 "cells": [
  {
   "cell_type": "markdown",
   "metadata": {},
   "source": [
    "#1\\. Write a function that converts number representation, bin<->dec<->hex. (Clearly using the corresponding python built-in functions is not fair..)\n",
    "\n",
    "def converter(num, conversion_type):\n",
    "    def bintodec(bin_num):\n",
    "        return sum(int(digit) * 2 ** idx for idx, digit in enumerate(reversed(str(bin_num))))\n",
    "        #trasformiamo il numero in una stringa, la invertiamo per iniziare a contare da destra a sinistra\n",
    "        #usando enumerate. faccio la somma dei risultati\n",
    "        \n",
    "    def dectobin(dec_num):\n",
    "        binary = '' #inizializzo una stringa vuota\n",
    "        while dec_num > 0: #pongo la condizione per cui il numero deve essere sempre maggiore di zero\n",
    "            binary = str(dec_num % 2) + binary #aggiungo alla stringa continuamente o zero o uno\n",
    "            dec_num //= 2 #divido il numero per 2 (non la stringa, il valore)\n",
    "        return binary\n",
    "    \n",
    "    def dectohex(dec_num):\n",
    "        hex_digits = '0123456789ABCDEF' #creo l'alfabeto esadecimale\n",
    "        hexadecimal = '' #inizializzo la stringa\n",
    "        while dec_num > 0:\n",
    "            hexadecimal = hex_digits[dec_num % 16] + hexadecimal #stessa cosa di sopra\n",
    "            dec_num //= 16\n",
    "        return hexadecimal\n",
    "\n",
    "    def hextodec(hex_num):\n",
    "        hex_digits = '0123456789ABCDEF'\n",
    "        return sum(hex_digits.index(digit) * 16 ** idx for idx, digit in enumerate(reversed(str(hex_num).upper())))\n",
    "        #l'upper serve per trasformare tutte le lettere in maiuscolo.\n",
    "    if conversion_type == 'bintodec':\n",
    "        return bintodec(num)\n",
    "    elif conversion_type == 'dectobin':\n",
    "        return dectobin(num)\n",
    "    elif conversion_type == 'dectohex':\n",
    "        return dectohex(num)\n",
    "    elif conversion_type == 'hextodec':\n",
    "        return hextodec(num)\n",
    "    elif conversion_type == 'bintohex':\n",
    "        return dectohex(bintodec(num))\n",
    "    elif conversion_type == 'hextobin':\n",
    "        return dectobin(hextodec(num))\n",
    "    else:\n",
    "        return \"Invalid conversion type\"\n",
    "    "
   ]
  },
  {
   "cell_type": "markdown",
   "metadata": {},
   "source": [
    "#2\\. Write a function that converts a 32 bit word into a single precision floating point (i.e. interprets the various bits as sign, mantissa and exponent)"
   ]
  },
  {
   "cell_type": "markdown",
   "metadata": {},
   "source": [
    "3\\. Write a program to determine the underflow and overflow limits (within a factor of 2) for python on your computer. \n",
    "\n",
    "**Tips**: define two variables inizialized to 1 and halve/double them enough time to exceed the under/over-flow limits  "
   ]
  },
  {
   "cell_type": "markdown",
   "metadata": {},
   "source": [
    "4\\. Write a program to determine the machine precision\n",
    "\n",
    "**Tips**: define a new variable by adding a smaller and smaller value (proceeding similarly to prob. 2) to an original variable and check the point where the two are the same "
   ]
  },
  {
   "cell_type": "markdown",
   "metadata": {},
   "source": [
    "5\\. Write a function that takes in input three parameters $a$, $b$ and $c$ and prints out the two solutions to the quadratic equation $ax^2+bx+c=0$ using the standard formula:\n",
    "$$\n",
    "x=\\frac{-b\\pm\\sqrt{b^2-4ac}}{2a}\n",
    "$$\n",
    "\n",
    "(a) use the program to compute the solution for $a=0.001$, $b=1000$ and $c=0.001$\n",
    "\n",
    "(b) re-express the standard solution formula by multiplying top and bottom by $-b\\mp\\sqrt{b^2-4ac}$ and again find the solution for $a=0.001$, $b=1000$ and $c=0.001$. How does it compare with what previously obtained? Why?\n",
    "\n",
    "(c) write a function that compute the roots of a quadratic equation accurately in all cases"
   ]
  },
  {
   "cell_type": "markdown",
   "metadata": {},
   "source": [
    "6\\. Write a program that implements the function $f(x)=x(x−1)$\n",
    "\n",
    "(a) Calculate the derivative of the function at the point $x = 1$ using the derivative definition:\n",
    "\n",
    "$$\n",
    "\\frac{{\\rm d}f}{{\\rm d}x} = \\lim_{\\delta\\to0} \\frac{f(x+\\delta)-f(x)}{\\delta}\n",
    "$$\n",
    "\n",
    "with $\\delta = 10^{−2}$. Calculate the true value of the same derivative analytically and compare with the answer your program gives. The two will not agree perfectly. Why not?\n",
    "\n",
    "(b) Repeat the calculation for $\\delta = 10^{−4}, 10^{−6}, 10^{−8}, 10^{−10}, 10^{−12}$ and $10^{−14}$. How does the accuracy scales with $\\delta$?"
   ]
  },
  {
   "cell_type": "markdown",
   "metadata": {},
   "source": [
    "7\\. Consider the integral of the semicircle of radius 1:\n",
    "$$\n",
    "I=\\int_{-1}^{1} \\sqrt(1-x^2) {\\rm d}x\n",
    "$$\n",
    "which it's known to be $I=\\frac{\\pi}{2}=1.57079632679...$.\n",
    "Alternatively we can use the Riemann definition of the integral:\n",
    "$$\n",
    "I=\\lim_{N\\to\\infty} \\sum_{k=1}^{N} h y_k \n",
    "$$\n",
    "\n",
    "with $h=2/N$ the width of each of the $N$ slices the domain is divided into and where\n",
    "$y_k$ is the value of the function at the $k-$th slice.\n",
    "\n",
    "(a) Write a programe to compute the integral with $N=100$. How does the result compares to the true value?\n",
    "\n",
    "(b) How much can $N$ be increased if the computation needs to be run in less than a second? What is the gain in running it for 1 minute? \n"
   ]
  },
  {
   "cell_type": "code",
   "execution_count": null,
   "metadata": {},
   "outputs": [],
   "source": []
  }
 ],
 "metadata": {
  "kernelspec": {
   "display_name": "Python 3 (ipykernel)",
   "language": "python",
   "name": "python3"
  },
  "language_info": {
   "codemirror_mode": {
    "name": "ipython",
    "version": 3
   },
   "file_extension": ".py",
   "mimetype": "text/x-python",
   "name": "python",
   "nbconvert_exporter": "python",
   "pygments_lexer": "ipython3",
   "version": "3.11.4"
  }
 },
 "nbformat": 4,
 "nbformat_minor": 2
}
