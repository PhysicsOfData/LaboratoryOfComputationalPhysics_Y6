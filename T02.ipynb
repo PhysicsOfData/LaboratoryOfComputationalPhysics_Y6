{
 "cells": [
  {
   "cell_type": "code",
   "execution_count": 9,
   "id": "1814071b",
   "metadata": {},
   "outputs": [
    {
     "name": "stdout",
     "output_type": "stream",
     "text": [
      "60 0b111100 0x3c\n"
     ]
    }
   ],
   "source": [
    "# BINARY E EXADECIMAL\n",
    "\n",
    "a = 60\n",
    "bin_a = bin(a)\n",
    "exa_a = hex(a)\n",
    "print(a, bin_a, exa_a)"
   ]
  },
  {
   "cell_type": "code",
   "execution_count": 10,
   "id": "c4af9aee",
   "metadata": {},
   "outputs": [
    {
     "name": "stdout",
     "output_type": "stream",
     "text": [
      "20 55 35\n",
      "-0b111101 -0b111101\n",
      "-61\n",
      "Left shift (towards most significant) of two positions  240\n",
      "Right shift (towards least significant) of two positions  15\n"
     ]
    }
   ],
   "source": [
    "# BITWISE OPERATORS\n",
    "\n",
    "# LOGICAL OPERATORS\n",
    "b = 22\n",
    "c = 53\n",
    "AND = b&c #AND\n",
    "OR = b|c #OR\n",
    "XOR = b^c #XOR\n",
    "print(AND, OR, XOR)\n",
    "\n",
    "# UNARY OPERATORS (NOT)\n",
    "# ~a = ~bin(a)    = -(bin(a)+1)\n",
    "print(bin(-61),bin(~60))\n",
    "NOT = ~a\n",
    "print(NOT)\n",
    "\n",
    "# SHIFTS\n",
    "c = a << 2       # 240 = 1111 0000 (*2*2)\n",
    "print(\"Left shift (towards most significant) of two positions \", c)\n",
    "\n",
    "c = a >> 2       # 15 = 0000 1111 (/2/2)\n",
    "print(\"Right shift (towards least significant) of two positions \", c)"
   ]
  },
  {
   "cell_type": "markdown",
   "id": "c054e2ca",
   "metadata": {},
   "source": [
    "FLOATING POINTS\n",
    "Single precision (float) e double precision numbers usano 32 o 64 bits (in python i float sono a 64).\n",
    "Un numero 32 o 64 è caratterizzato da 3 quantità $x_{float} = (-1)^s \\times 1.f \\times 2^{e-bias}$ dove s è il \n",
    "segno, f la parte frazionale della mantissa ed e l'esponente. Per avere un numero in modulo più\n",
    "piccolo di 1, un termine bias costante è aggiunto all'esponente. Questo bias equivale alla metà\n",
    "del valore massimo di e. La mantissa invece è così definita: \n",
    "${\\rm mantissa}=1.f=1+m_{n-1}2^{-1}+m_{n-2}2^{-2}+..+m_{0}2^{-n}$\n",
    "dove n è il numero di bits dedicati alla mantissa e mi sono i coefficienti binari. Numeri che eccedono il massimo valore ammesso sono overflows e producono calcoli incorretti. Numeri minori più piccoli del\n",
    "numero minimo permesso underflows e producono calcoli incorretti."
   ]
  },
  {
   "cell_type": "markdown",
   "id": "0f99121c",
   "metadata": {},
   "source": [
    " SINGLES\n",
    " \n",
    " Per i singles ho 0 ≤ 𝑒 ≤ 255 e bias = 127 e i bits sono composti così:\n",
    " \n",
    "\n",
    "|   | *s* | *e* | *f* |\n",
    "|---|---|---|---|\n",
    "| Bit position | 31 | 30-23 | 22-0 |\n",
    "\n",
    " Il numero più largo si ottiene per f ∼ 2 e per e = 254, i.e. 2 × 2^127\n",
    " Il numero più piccolo si ottiene per 𝑓 = 2−23 e per 𝑒 = 0, i.e. 2^−149"
   ]
  },
  {
   "cell_type": "markdown",
   "id": "26787aab",
   "metadata": {},
   "source": [
    "DOUBLES\n",
    "\n",
    "Per il double precision ho 0 ≤ 𝑒 ≤ 2047 and 𝑏𝑖𝑎𝑠 = 1023 e i bits sono composti così:\n",
    "\n",
    "|   | *s* | *e* | *f* |\n",
    "|---|---|---|---|\n",
    "| Bit position | 63 | 62-52 | 51-0 |\n",
    "\n",
    "Il range di validità per i double numbers è $2.2^{-308} - 1.8^{308}$\n",
    "Sono quasi sempre richiesti doubles e non singles.\n"
   ]
  },
  {
   "cell_type": "code",
   "execution_count": 19,
   "id": "89bbff19",
   "metadata": {},
   "outputs": [
    {
     "name": "stdout",
     "output_type": "stream",
     "text": [
      "7.00000000000001\n",
      "7.000000000000001\n",
      "7.0\n",
      "0.1 0.1\n",
      "True\n",
      "False\n",
      "3.141592653589793 0x1.921fb54442d18p+1\n"
     ]
    }
   ],
   "source": [
    "# ACCURACY\n",
    "# Quanti bits sono allocati per la parte frazionale della mantissa? 6-7 per singles e 15-16 per doubles.\n",
    "for e in [14,15,16]:\n",
    "    print(7+1.0*10**-e)\n",
    "# Computers store numbers in binary format, so it is not possible to express the fraction 1/3 with\n",
    "# a finite decimal places.\n",
    "print(1/10, 0.1)\n",
    "print(1/10 == 0.1) #printa true se sono la stessa cosa\n",
    "print(0.1 + 0.2 == 0.3) #printa se quel conto fa esattamente 0.3\n",
    "# NON SI DEVE COMPARARE FLOATING POINT NUMBERS CON L'OPERATORE == perchè quello che si printa non è in \n",
    "# store. La funzione float.hex() ti da il valore esatto storato per un floating number.\n",
    "import math\n",
    "x = math.pi\n",
    "print(x, x.hex())"
   ]
  },
  {
   "cell_type": "code",
   "execution_count": null,
   "id": "13801332",
   "metadata": {},
   "outputs": [],
   "source": [
    "# DA NUMERI A FUNZIONI\n",
    "# CONDIZIONAMENTO DELLE FUNZIONI\n"
   ]
  }
 ],
 "metadata": {
  "kernelspec": {
   "display_name": "Python 3 (ipykernel)",
   "language": "python",
   "name": "python3"
  },
  "language_info": {
   "codemirror_mode": {
    "name": "ipython",
    "version": 3
   },
   "file_extension": ".py",
   "mimetype": "text/x-python",
   "name": "python",
   "nbconvert_exporter": "python",
   "pygments_lexer": "ipython3",
   "version": "3.11.4"
  }
 },
 "nbformat": 4,
 "nbformat_minor": 5
}
